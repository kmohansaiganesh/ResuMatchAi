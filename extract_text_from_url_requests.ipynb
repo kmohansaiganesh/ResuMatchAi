{
 "cells": [
  {
   "cell_type": "markdown",
   "metadata": {},
   "source": [
    "## 1.IMPORTS"
   ]
  },
  {
   "cell_type": "code",
   "execution_count": 1,
   "metadata": {},
   "outputs": [],
   "source": [
    "import requests\n",
    "from bs4 import BeautifulSoup"
   ]
  },
  {
   "cell_type": "markdown",
   "metadata": {},
   "source": [
    "## 2. FUNCTIONS"
   ]
  },
  {
   "cell_type": "code",
   "execution_count": 2,
   "metadata": {},
   "outputs": [],
   "source": [
    "def extract_text_from_url_requests(url):\n",
    "    cleaned_text = \"Extracted using requests module\"\n",
    "    try:\n",
    "        headers = {\n",
    "            \"User-Agent\": \"Mozilla/5.0 (Windows NT 10.0; Win64; x64) AppleWebKit/537.36 (KHTML, like Gecko) Chrome/126.0.0.0 Safari/537.36\"\n",
    "        }\n",
    "\n",
    "        # Send an HTTP GET request to the URL\n",
    "        response = requests.get(url, headers=headers, timeout=5)\n",
    "        response.raise_for_status()\n",
    "\n",
    "        # Parse the HTML content of the page\n",
    "        raw_text = BeautifulSoup(response.text, 'html.parser')\n",
    "\n",
    "        # Extract all text from the page\n",
    "        text = raw_text.get_text(separator=\"\\n\")\n",
    "\n",
    "        # Remove empty lines\n",
    "        lines = [line.strip() for line in text.split(\"\\n\") if line.strip()]\n",
    "        cleaned_text = \"\\n\".join(lines)\n",
    "\n",
    "\n",
    "    except requests.exceptions.RequestException as e:\n",
    "        print(f\"An error occurred while fetching the URL: {e}\")\n",
    "        \n",
    "    return cleaned_text.strip()"
   ]
  },
  {
   "cell_type": "markdown",
   "metadata": {},
   "source": [
    "## 3. USAGE"
   ]
  },
  {
   "cell_type": "code",
   "execution_count": 3,
   "metadata": {},
   "outputs": [
    {
     "name": "stdout",
     "output_type": "stream",
     "text": [
      "Software Development Engineer II, Amazon - Job ID: 3099296 | Amazon.jobs\n",
      "Skip to main content\n",
      "Home\n",
      "Teams\n",
      "Locations\n",
      "Job categories\n",
      "My career\n",
      "My applications\n",
      "My profile\n",
      "Account security\n",
      "Settings\n",
      "Sign out\n",
      "Resources\n",
      "Disability accommodations\n",
      "Benefits\n",
      "Inclusive experiences\n",
      "Interview tips\n",
      "Leadership principles\n",
      "Working at Amazon\n",
      "FAQ\n",
      "×\n",
      "Software Development Engineer II, Amazon\n",
      "Job ID: 3099296 | Amazon.com Services LLC\n",
      "Apply now\n",
      "Description\n",
      "How often have you had an opportunity to be an early member of a team that is tasked with solving a huge customer need through disruptive, innovative technology, reinventing an industry? Are you passionate about building software solutions that leverage the power of Generative AI? Do you want to be at the forefront of transforming how Amazonians work and collaborate? If so, we want to hear from you!\n",
      "We are working on revolutionizing the way Amazonians work and collaborate. Our team is on a mission to transform productivity through the power of advanced generative AI technologies. In pursuit of this mission we are seeking a motivated Software Development Engineer to join our team. As a Software Development Engineer, you'll play a crucial role in designing, developing, and implementing the software infrastructure that supports our advanced AI models. You'll work on creating scalable, efficient, and secure systems that integrate seamlessly with Amazon's existing tools and services.  This role involves close collaboration with machine learning engineers, data scientists, and UX/UI designers to create a seamless and context-aware AI solution that enhances productivity across various user personas within Amazon.\n",
      "Technical Skills Needed:\n",
      "* Strong proficiency in one or more programming languages such as Java, Python, or Go\n",
      "* Extensive experience with backend development and RESTful API design\n",
      "* Solid understanding of distributed systems and microservices architecture\n",
      "* Experience with cloud platforms, particularly AWS services\n",
      "* Familiarity with containerization technologies like Docker and orchestration tools like Kubernetes\n",
      "* Understanding of CI/CD pipelines and DevOps practices\n",
      "* Knowledge of security best practices and data privacy considerations\n",
      "* Familiarity with big data technologies (e.g., Hadoop, Spark) is a plus\n",
      "* Basic understanding of machine learning concepts and their software engineering implications\n",
      "Key job responsibilities\n",
      "Key job responsibilities\n",
      "1.  Design and implement robust, scalable architectures for AI-powered applications.\n",
      "2. Develop high-performance backend services to support AI model integration and data processing.\n",
      "3. Create and maintain RESTful APIs for seamless interaction between AI models and front-end applications.\n",
      "4.  Design and implement microservices architecture to ensure modularity and scalability of the system.\n",
      "5.  Optimize code and database queries for handling large-scale data and high-concurrency scenarios.\n",
      "6. Collaborate with ML engineers and Data scientists to integrate AI models into the software stack effectively.\n",
      "7. Partner with UX/UI designers to understand user workflows and translate them into intuitive and user-friendly features\n",
      "8.  Leverage AWS services to build and deploy cloud-native applications.\n",
      "9.  Ensure the implementation of robust security measures and compliance with data privacy regulations.\n",
      "10. Conduct thorough code reviews and mentor other engineers on the team to maintain high code quality standards.\n",
      "11. Participate in agile development processes, including sprint planning, daily stand-ups, and retrospectives.\n",
      "Basic Qualifications\n",
      "- 3+ years of non-internship professional software development experience\n",
      "- 2+ years of non-internship design or architecture (design patterns, reliability and scaling) of new and existing systems experience\n",
      "- Experience programming with at least one software programming language\n",
      "Preferred Qualifications\n",
      "- 3+ years of full software development life cycle, including coding standards, code reviews, source control management, build processes, testing, and operations experience\n",
      "- Bachelor's degree in computer science or equivalent\n",
      "Amazon is an equal opportunity employer and does not discriminate on the basis of protected veteran status, disability, or other legally protected status.\n",
      "Our inclusive culture empowers Amazonians to deliver the best results for our customers. If you have a disability and need a workplace accommodation or adjustment during the application and hiring process, including support for the interview or onboarding process, please visit\n",
      "https://amazon.jobs/content/en/how-we-hire/accommodations\n",
      "for more information. If the country/region you’re applying in isn’t listed, please contact your Recruiting Partner.\n",
      "Our compensation reflects the cost of labor across several US geographic markets. The base pay for this position ranges from $129,300/year in our lowest geographic market up to $223,600/year in our highest geographic market. Pay is based on a number of factors including market location and may vary depending on job-related knowledge, skills, and experience. Amazon is a total compensation company. Dependent on the position offered, equity, sign-on payments, and other forms of compensation may be provided as part of a total compensation package, in addition to a full range of medical, financial, and/or other benefits. For more information,  please visit\n",
      "https://www.aboutamazon.com/workplace/employee-benefits\n",
      ". This position will remain posted until filled. Applicants should apply via our internal or external career site.\n",
      "Job details\n",
      "USA, WA, Seattle\n",
      "Software Development\n",
      "Share this job\n",
      "JOIN US ON\n",
      "Find Careers\n",
      "Job Categories\n",
      "Teams\n",
      "Locations\n",
      "US and EU Military recruiting\n",
      "Warehouse and Hourly Jobs\n",
      "Working At Amazon\n",
      "Culture\n",
      "Benefits\n",
      "Amazon Newsletter\n",
      "Inclusive experiences\n",
      "Our leadership principles\n",
      "Help\n",
      "FAQ\n",
      "Interview tips\n",
      "Review application status\n",
      "Disability accommodations\n",
      "Legal disclosures and notices\n",
      "Amazon is an equal opportunity employer and does not discriminate on the basis of protected veteran status, disability, or other legally protected status.\n",
      "Privacy and Data\n",
      "Impressum\n",
      "© 1996-2025, Amazon.com, Inc. or its affiliates\n"
     ]
    }
   ],
   "source": [
    "url = \"https://www.amazon.jobs/en/jobs/3099296/software-development-engineer-ii-amazon\"\n",
    "text_content = extract_text_from_url_requests(url)\n",
    "print(text_content)"
   ]
  }
 ],
 "metadata": {
  "kernelspec": {
   "display_name": "Python 3",
   "language": "python",
   "name": "python3"
  },
  "language_info": {
   "codemirror_mode": {
    "name": "ipython",
    "version": 3
   },
   "file_extension": ".py",
   "mimetype": "text/x-python",
   "name": "python",
   "nbconvert_exporter": "python",
   "pygments_lexer": "ipython3",
   "version": "3.11.8"
  }
 },
 "nbformat": 4,
 "nbformat_minor": 2
}
